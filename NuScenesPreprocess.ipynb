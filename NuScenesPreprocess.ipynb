{
 "cells": [
  {
   "attachments": {},
   "cell_type": "markdown",
   "metadata": {},
   "source": [
    "# Code to get filtered points"
   ]
  },
  {
   "cell_type": "code",
   "execution_count": 1,
   "metadata": {},
   "outputs": [
    {
     "name": "stdout",
     "output_type": "stream",
     "text": [
      "======\n",
      "Loading NuScenes tables for version v1.0-trainval...\n",
      "23 category,\n",
      "8 attribute,\n",
      "4 visibility,\n",
      "64386 instance,\n",
      "12 sensor,\n",
      "10200 calibrated_sensor,\n",
      "2631083 ego_pose,\n",
      "68 log,\n",
      "850 scene,\n",
      "34149 sample,\n",
      "2631083 sample_data,\n",
      "1166187 sample_annotation,\n",
      "4 map,\n",
      "Done loading in 69.589 seconds.\n",
      "======\n",
      "Reverse indexing ...\n",
      "Done reverse indexing in 12.0 seconds.\n",
      "======\n"
     ]
    }
   ],
   "source": [
    "from nuscenes.nuscenes import NuScenes\n",
    "from nuscenes.utils.geometry_utils import transform_matrix\n",
    "#from nuscenes.utils.data_classes import RadarPointCloud\n",
    "from my_radar import RadarPointCloud\n",
    "from pyquaternion import Quaternion\n",
    "import numpy as np\n",
    "import cv2\n",
    "import os.path as osp\n",
    "import math\n",
    "\n",
    "\n",
    "#RadarPointCloud.disable_filters()  #to make the radar point denser\n",
    "USED_SENSOR = {'RADAR_FRONT','RADAR_FRONT_LEFT','RADAR_FRONT_RIGHT','RADAR_BACK_LEFT','RADAR_BACK_RIGHT'}\n",
    "accum_radar_points = np.empty((3,1))\n",
    "\n",
    "nusc = NuScenes(version='v1.0-trainval', dataroot='E:\\data/trainval', verbose=True)\n",
    "for one_instance in nusc.instance:\n",
    "    cata = nusc.get('category', one_instance['category_token'])\n",
    "    if cata['name'] == 'vehicle.car':\n",
    "        ann_tokens = nusc.field2token('sample_annotation', 'instance_token', one_instance['token'])\n",
    "        ann_tokens = set(ann_tokens)\n",
    "        for one_token in ann_tokens:\n",
    "            one_ann = nusc.get('sample_annotation', one_token)\n",
    "            global_from_anno = transform_matrix(one_ann['translation'],Quaternion(one_ann['rotation']),inverse=False)\n",
    "            global_from_anno = global_from_anno[:2,:2].T\n",
    "            sample = nusc.get('sample', one_ann['sample_token'])\n",
    "            w =  one_ann['size'][0]\n",
    "            l =  one_ann['size'][1]\n",
    "            bound_l = l * 0.6\n",
    "            bound_w = w * 0.6\n",
    "\n",
    "            for radar in USED_SENSOR:        \n",
    "                sample_data = nusc.get('sample_data', sample['data'][radar])\n",
    "                filename = osp.join(nusc.dataroot, sample_data['filename'])\n",
    "                radar_pcs = RadarPointCloud.from_file(file_name=filename,invalid_states=[0], \n",
    "                                        dynprop_states=[6],ambig_states=[3],pdh0=[1]) \n",
    "                                        #only \"cross-moving, unambiguious doppler, valid, artifect less than 25%\" is reserved\n",
    "                ego_pose = nusc.get('ego_pose', sample_data['ego_pose_token'])   \n",
    "                sensor_pose = nusc.get('calibrated_sensor',sample_data['calibrated_sensor_token']) #ego-car coordinate\n",
    "                car_from_sensor = transform_matrix(sensor_pose['translation'], Quaternion(sensor_pose['rotation']), inverse=False)\n",
    "                global_from_car = transform_matrix(ego_pose['translation'],Quaternion(ego_pose['rotation']), inverse=False)\n",
    "                trans_matrix = np.dot(global_from_car,car_from_sensor)\n",
    "                inv_trans_matrix = np.linalg.inv(trans_matrix)\n",
    "                \n",
    "                \n",
    "                ann_gc = np.hstack((one_ann['translation'],np.array([1]))).reshape(4,1)\n",
    "                ann_sc = np.dot(inv_trans_matrix, ann_gc)\n",
    "                yaw_sc = math.atan2(ann_sc[1],ann_sc[0])  #range[-pi,pi]\n",
    "                orientation_sc = np.dot(inv_trans_matrix[:2,:2], global_from_anno.T)\n",
    "                #orientation_sc = global_from_anno\n",
    "                #phi_sc = math.acos(orientation_sc[0,0])   #range[0,pi]\n",
    "                #if orientation_sc[0,1] > 0:\n",
    "                #    phi_sc = phi_sc - math.pi\n",
    "                phi_sc = math.atan2(orientation_sc[1,0],orientation_sc[0,0])\n",
    "                xi_sc =  yaw_sc - phi_sc\n",
    "\n",
    "\n",
    "                radar_pcs.transform(trans_matrix)   #transform radar points from sensor-coordinate to global coordinate\n",
    "                radar_points = radar_pcs.points[:2,:]\n",
    "                anno_pose = np.array(one_ann['translation'])[:2,].reshape(2,1)\n",
    "                radar_points_ac = radar_points - anno_pose                       #annotation coordinate\n",
    "                radar_points_uc = np.dot(global_from_anno,radar_points_ac)       #unit coordinate                   \n",
    "                for i in range(0,radar_points_uc.shape[1]):\n",
    "                    if -bound_l < radar_points_uc[0,i] < bound_l and  -bound_w < radar_points_uc[1,i] < bound_w:      \n",
    "                        uc = np.array([2*radar_points_uc[0,i]/l, 2*radar_points_uc[1,i]/w, xi_sc]).reshape(3,1)         \n",
    "                        accum_radar_points = np.hstack((accum_radar_points,uc))\n",
    "np.savetxt('test_trainval_01192245.txt',accum_radar_points,fmt='%.2f')   "
   ]
  }
 ],
 "metadata": {
  "kernelspec": {
   "display_name": "py37",
   "language": "python",
   "name": "python3"
  },
  "language_info": {
   "codemirror_mode": {
    "name": "ipython",
    "version": 3
   },
   "file_extension": ".py",
   "mimetype": "text/x-python",
   "name": "python",
   "nbconvert_exporter": "python",
   "pygments_lexer": "ipython3",
   "version": "3.7.15 (default, Nov 24 2022, 18:44:54) [MSC v.1916 64 bit (AMD64)]"
  },
  "orig_nbformat": 4,
  "vscode": {
   "interpreter": {
    "hash": "db1326a48e48ea06ddff0e9129227586942f6dac759e219acb46baa7ea7ea63a"
   }
  }
 },
 "nbformat": 4,
 "nbformat_minor": 2
}
